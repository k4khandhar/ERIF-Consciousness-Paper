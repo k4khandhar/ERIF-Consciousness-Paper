
{
 "cells": [
  {"cell_type": "markdown", "source": ["# ERIF Plotly Dashboard\nVisualize T/R space."]},
  {"cell_type": "code", "source": ["import plotly.graph_objs as go\nfig = go.Figure(data=go.Scatter(x=[0.1,0.8], y=[0.2,0.7], mode='markers', marker=dict(size=20)))\nfig.show()"]}
 ],
 "metadata": {}, "nbformat": 4, "nbformat_minor": 2
}
