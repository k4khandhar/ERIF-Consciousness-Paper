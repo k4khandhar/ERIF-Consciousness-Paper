{
 "nbformat": 4,
 "nbformat_minor": 5,
 "metadata": {
  "kernelspec": {
   "display_name": "Python 3 (ipykernel)",
   "language": "python",
   "name": "python3"
  },
  "language_info": {
   "codemirror_mode": {
    "name": "ipython",
    "version": 3
   },
   "file_extension": ".py",
   "mimetype": "text/x-python",
   "name": "python",
   "nbconvert_exporter": "python",
   "pygments_lexer": "ipython3",
   "version": "3.10.12"
  },
  "colab": {
   "provenance": []
  }
 },
 "cells": [
  {
   "cell_type": "markdown",
   "id": "intro-cell",
   "metadata": {},
   "source": [
    "# ERIF Colab Suite\n",
    "\n",
    "Welcome to the ERIF Cognitive Map Toolkit! \n",
    "\n",
    "This notebook demonstrates the ERIF theory: a 2D map for consciousness with Stability (T) and Integration (R).\n",
    "\n",
    "Run all cells to simulate mind movement, visualize with Plotly, and explore EEG mappings.\n",
    "\n",
    "**Links**: [GitHub Repo](https://github.com/k4khandhar/ERIF-Consciousness-Paper) | [Theory Paper](https://github.com/k4khandhar/ERIF-Consciousness-Paper/blob/main/docs/ERIF_Theory_v1.0.pdf)"
   ]
  },
  {
   "cell_type": "code",
   "id": "install-cell",
   "metadata": {
    "id": "install-cell"
   },
   "source": [
    "# Install dependencies (run this first)\n",
    "!pip install numpy plotly pandas\n",
    "import numpy as np\n",
    "import plotly.graph_objects as go\n",
    "import pandas as pd\n",
    "print('Dependencies installed!')"
   ],
   "execution_count": null,
   "outputs": []
  },
  {
   "cell_type": "markdown",
   "id": "math-cell",
   "metadata": {},
   "source": [
    "## ERIF Math Model\n",
    "\n",
    "ERIF dynamics:\n",
    "\n",
    "dT/dt = α(success - entropy)  \n",
    "dR/dt = β(info_gain - overload)"
   ]
  },
  {
   "cell_type": "code",
   "id": "sim-cell",
   "metadata": {
    "id": "sim-cell"
   },
   "source": [
    "# Simple ERIF Simulation\n",
    "def simulate_erif(steps=100, alpha=0.1, beta=0.1, initial_T=0.5, initial_R=0.5):\n",
    "    T = [initial_T]\n",
    "    R = [initial_R]\n",
    "    for _ in range(steps):\n",
    "        success = np.random.uniform(0, 1)\n",
    "        entropy = np.random.uniform(0, 0.5)\n",
    "        info_gain = np.random.uniform(0, 1)\n",
    "        overload = np.random.uniform(0, 0.5)\n",
    "        dT = alpha * (success - entropy)\n",
    "        dR = beta * (info_gain - overload)\n",
    "        T.append(T[-1] + dT)\n",
    "        R.append(R[-1] + dR)\n",
    "    return np.array(T), np.array(R)\n",
    "\n",
    "T, R = simulate_erif()\n",
    "print('Simulation complete! T and R values generated.')"
   ],
   "execution_count": null,
   "outputs": []
  },
  {
   "cell_type": "code",
   "id": "plot-cell",
   "metadata": {
    "id": "plot-cell"
   },
   "source": [
    "# Visualize with Plotly\n",
    "fig = go.Figure()\n",
    "fig.add_trace(go.Scatter(x=T, y=R, mode='lines+markers', name='Mind Path'))\n",
    "fig.update_layout(title='ERIF Cognitive Map Simulation',\n",
    "                  xaxis_title='Stability (T)',\n",
    "                  yaxis_title='Integration (R)',\n",
    "                  showlegend=True)\n",
    "fig.show()"
   ],
   "execution_count": null,
   "outputs": []
  },
  {
   "cell_type": "markdown",
   "id": "eeg-cell",
   "metadata": {},
   "source": [
    "## EEG Mapping Example\n",
    "\n",
    "Placeholder for EEG data. Map states to T/R."
   ]
  },
  {
   "cell_type": "code",
   "id": "eeg-example-cell",
   "metadata": {
    "id": "eeg-example-cell"
   },
   "source": [
    "# Example EEG states DataFrame\n",
    "eeg_data = pd.DataFrame({\n",
    "    'State': ['Meditative', 'Task-Focused', 'Daydream'],\n",
    "    'T': [0.8, 0.5, 0.2],\n",
    "    'R': [0.4, 0.7, 0.3]\n",
    "})\n",
    "print(eeg_data)\n",
    "# Add your real EEG processing here"
   ],
   "execution_count": null,
   "outputs": []
  },
  {
   "cell_type": "markdown",
   "id": "next-steps-cell",
   "metadata": {},
   "source": [
    "## Next Steps\n",
    "\n",
    "- Run NetLogo sims (add your .nlogo bridge here).\n",
    "- Fork the repo and contribute!"
   ]
  }
 ]
}