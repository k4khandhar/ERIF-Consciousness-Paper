# ERIF Launch Notebook

Open launch dashboard, simulation, and EEG.