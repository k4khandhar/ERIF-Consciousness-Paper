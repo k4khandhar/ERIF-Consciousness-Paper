
{
 "cells": [
  {"cell_type": "markdown", "source": ["# ERIF NetLogo Connector\nSimulate agents, collect T/R data."]},
  {"cell_type": "code", "source": ["print('NetLogo connector demo')"]}
 ],
 "metadata": {}, "nbformat": 4, "nbformat_minor": 2
}
