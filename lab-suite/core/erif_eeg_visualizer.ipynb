{
 "cells": [
  {
   "cell_type": "markdown",
   "id": "c27b0fc1",
   "metadata": {},
   "source": [
    "# ERIF EEG Visualizer\n",
    "\n",
    "Map EEG states to T (Stability) and R (Integration).\n",
    "\n",
    "Run all cells for visualization."
   ]
  },
  {
   "cell_type": "code",
   "execution_count": null,
   "id": "a6fdc354",
   "metadata": {},
   "outputs": [],
   "source": [
    "!pip install numpy pandas plotly\n",
    "import numpy as np\n",
    "import pandas as pd\n",
    "import plotly.express as px\n",
    "print('Ready!')"
   ]
  },
  {
   "cell_type": "code",
   "execution_count": null,
   "id": "f3723c8c",
   "metadata": {},
   "outputs": [],
   "source": [
    "# Sample EEG data mapped to T/R\n",
    "eeg_data = pd.DataFrame({\n",
    "    'State': ['Meditative', 'Task-Focused', 'Daydream', 'Overloaded'],\n",
    "    'T': [0.8, 0.5, 0.2, 0.3],\n",
    "    'R': [0.4, 0.7, 0.3, 0.9]\n",
    "})\n",
    "print(eeg_data)"
   ]
  },
  {
   "cell_type": "code",
   "execution_count": null,
   "id": "29f0105c",
   "metadata": {},
   "outputs": [],
   "source": [
    "# Plot EEG states on ERIF map\n",
    "fig = px.scatter(eeg_data, x='T', y='R', color='State', size=[10]*len(eeg_data),\n",
    "                 title='EEG States on ERIF Map',\n",
    "                 labels={'T': 'Stability', 'R': 'Integration'})\n",
    "fig.show()"
   ]
  }
 ],
 "metadata": {
  "kernelspec": {
   "display_name": "Python 3 (ipykernel)",
   "language": "python",
   "name": "python3"
  },
  "language_info": {
   "codemirror_mode": {
    "name": "ipython",
    "version": 3
   },
   "file_extension": ".py",
   "mimetype": "text/x-python",
   "name": "python",
   "nbconvert_exporter": "python",
   "pygments_lexer": "ipython3",
   "version": "3.10.12"
  }
 },
 "nbformat": 4,
 "nbformat_minor": 5
}
