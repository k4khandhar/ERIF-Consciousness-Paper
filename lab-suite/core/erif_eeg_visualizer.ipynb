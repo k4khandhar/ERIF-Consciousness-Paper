{
 "nbformat": 4,
 "nbformat_minor": 5,
 "metadata": {
  "kernelspec": {
   "display_name": "Python 3 (ipykernel)",
   "language": "python",
   "name": "python3"
  },
  "language_info": {
   "codemirror_mode": {
    "name": "ipython",
    "version": 3
   },
   "file_extension": ".py",
   "mimetype": "text/x-python",
   "name": "python",
   "nbconvert_exporter": "python",
   "pygments_lexer": "ipython3",
   "version": "3.10.12"
  }
 },
 "cells": [
  {
   "cell_type": "markdown",
   "id": "intro",
   "source": [
    "# ERIF EEG Visualizer\n\nMap EEG states to T (Stability) and R (Integration).\n\nRun all cells for visualization."
   ]
  },
  {
   "cell_type": "code",
   "id": "install",
   "source": [
    "!pip install numpy pandas plotly\nimport numpy as np\nimport pandas as pd\nimport plotly.express as px\nprint('Ready!')"
   ],
   "execution_count": null,
   "outputs": []
  },
  {
   "cell_type": "code",
   "id": "data",
   "source": [
    "# Sample EEG data mapped to T/R\neeg_data = pd.DataFrame({\n    'State': ['Meditative', 'Task-Focused', 'Daydream', 'Overloaded'],\n    'T': [0.8, 0.5, 0.2, 0.3],\n    'R': [0.4, 0.7, 0.3, 0.9]\n})\nprint(eeg_data)"
   ],
   "execution_count": null,
   "outputs": []
  },
  {
   "cell_type": "code",
   "id": "visualize",
   "source": [
    "# Plot EEG states on ERIF map\nfig = px.scatter(eeg_data, x='T', y='R', color='State', size=[10]*len(eeg_data),\n                 title='EEG States on ERIF Map',\n                 labels={'T': 'Stability', 'R': 'Integration'})\nfig.show()"
   ],
   "execution_count": null,
   "outputs": []
  }
 ]
}